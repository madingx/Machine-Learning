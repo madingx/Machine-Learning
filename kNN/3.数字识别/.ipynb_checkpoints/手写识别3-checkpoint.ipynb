{
 "cells": [
  {
   "cell_type": "code",
   "execution_count": 1,
   "metadata": {
    "collapsed": true
   },
   "outputs": [],
   "source": [
    "# -*- coding: UTF-8 -*-\n",
    "import numpy as np\n",
    "import operator\n",
    "from os import listdir"
   ]
  },
  {
   "cell_type": "markdown",
   "metadata": {},
   "source": [
    "# 定义函数"
   ]
  },
  {
   "cell_type": "code",
   "execution_count": 3,
   "metadata": {
    "collapsed": true
   },
   "outputs": [],
   "source": [
    "\"\"\"\n",
    "函数说明:kNN算法,分类器\n",
    "\n",
    "Parameters:\n",
    "    inX - 用于分类的数据(测试集)\n",
    "    dataSet - 用于训练的数据(训练集)\n",
    "    labes - 分类标签\n",
    "    k - kNN算法参数,选择距离最小的k个点\n",
    "Returns:\n",
    "    sortedClassCount[0][0] - 分类结果\n",
    "\n",
    "Modify:\n",
    "    2017-03-25\n",
    "\"\"\"\n",
    "def classify0(inX, dataSet, labels, k):\n",
    "    #numpy函数shape[0]返回dataSet的行数\n",
    "    dataSetSize = dataSet.shape[0]\n",
    "    #在列向量方向上重复inX共1次(横向),行向量方向上重复inX共dataSetSize次(纵向)\n",
    "    diffMat = np.tile(inX, (dataSetSize, 1)) - dataSet\n",
    "    #二维特征相减后平方\n",
    "    sqDiffMat = diffMat**2\n",
    "    #sum()所有元素相加,sum(0)列相加,sum(1)行相加\n",
    "    sqDistances = sqDiffMat.sum(axis=1)\n",
    "    #开方,计算出距离\n",
    "    distances = sqDistances**0.5\n",
    "    #返回distances中元素从小到大排序后的索引值\n",
    "    sortedDistIndices = distances.argsort()\n",
    "    #定一个记录类别次数的字典\n",
    "    classCount = {}\n",
    "    for i in range(k):\n",
    "        #取出前k个元素的类别\n",
    "        voteIlabel = labels[sortedDistIndices[i]]\n",
    "        #dict.get(key,default=None),字典的get()方法,返回指定键的值,如果值不在字典中返回默认值。\n",
    "        #计算类别次数\n",
    "        classCount[voteIlabel] = classCount.get(voteIlabel,0) + 1\n",
    "    #python3中用items()替换python2中的iteritems()\n",
    "    #key=operator.itemgetter(1)根据字典的值进行排序\n",
    "    #key=operator.itemgetter(0)根据字典的键进行排序\n",
    "    #reverse降序排序字典\n",
    "    sortedClassCount = sorted(classCount.items(),key=operator.itemgetter(1),reverse=True)\n",
    "    #返回次数最多的类别,即所要分类的类别\n",
    "    return sortedClassCount[0][0]"
   ]
  },
  {
   "cell_type": "code",
   "execution_count": 4,
   "metadata": {
    "collapsed": true
   },
   "outputs": [],
   "source": [
    "\"\"\"\n",
    "函数说明:将32x32的二进制图像转换为1x1024向量。\n",
    "\n",
    "Parameters:\n",
    "    filename - 文件名\n",
    "Returns:\n",
    "    returnVect - 返回的二进制图像的1x1024向量\n",
    "\n",
    "Modify:\n",
    "    2017-03-25\n",
    "\"\"\"\n",
    "def img2vector(filename):\n",
    "    #创建1x1024零向量\n",
    "    returnVect = np.zeros((1, 1024))\n",
    "    #打开文件\n",
    "    fr = open(filename)\n",
    "    #按行读取\n",
    "    for i in range(32):\n",
    "        #读一行数据\n",
    "        lineStr = fr.readline()\n",
    "        #每一行的前32个元素依次添加到returnVect中\n",
    "        for j in range(32):\n",
    "            returnVect[0, 32*i+j] = int(lineStr[j])\n",
    "    #返回转换后的1x1024向量\n",
    "    return returnVect\n"
   ]
  },
  {
   "cell_type": "code",
   "execution_count": 5,
   "metadata": {
    "collapsed": true
   },
   "outputs": [],
   "source": [
    "\"\"\"\n",
    "函数说明:手写数字分类测试\n",
    "\n",
    "Parameters:\n",
    "    无\n",
    "Returns:\n",
    "    无\n",
    "\n",
    "Modify:\n",
    "    2017-03-25\n",
    "\"\"\"\n",
    "def handwritingClassTest():\n",
    "    #测试集的Labels\n",
    "    hwLabels = []\n",
    "    #返回trainingDigits目录下的文件名\n",
    "    trainingFileList = listdir('trainingDigits')\n",
    "    #返回文件夹下文件的个数\n",
    "    m = len(trainingFileList)\n",
    "    #初始化训练的Mat矩阵,测试集\n",
    "    trainingMat = np.zeros((m, 1024))\n",
    "    #从文件名中解析出训练集的类别\n",
    "    for i in range(m):\n",
    "        #获得文件的名字\n",
    "        fileNameStr = trainingFileList[i]\n",
    "        #获得分类的数字\n",
    "        classNumber = int(fileNameStr.split('_')[0])\n",
    "        #将获得的类别添加到hwLabels中\n",
    "        hwLabels.append(classNumber)\n",
    "        #将每一个文件的1x1024数据存储到trainingMat矩阵中\n",
    "        trainingMat[i,:] = img2vector('trainingDigits/%s' % (fileNameStr))\n",
    "        \n",
    "        \n",
    "    #返回testDigits目录下的文件名\n",
    "    testFileList = listdir('testDigits')\n",
    "    #错误检测计数\n",
    "    errorCount = 0.0\n",
    "    #测试数据的数量\n",
    "    mTest = len(testFileList)\n",
    "    #从文件中解析出测试集的类别并进行分类测试\n",
    "    for i in range(mTest): #每一个测试数据\n",
    "        #获得文件的名字\n",
    "        fileNameStr = testFileList[i]\n",
    "        #获得分类的数字\n",
    "        classNumber = int(fileNameStr.split('_')[0])\n",
    "        #获得测试集的1x1024向量,用于训练\n",
    "        vectorUnderTest = img2vector('testDigits/%s' % (fileNameStr))\n",
    "        #获得预测结果\n",
    "        classifierResult = classify0(vectorUnderTest, trainingMat, hwLabels, 3)\n",
    "        print(\"分类返回结果为%d\\t真实结果为%d\" % (classifierResult, classNumber))\n",
    "        if(classifierResult != classNumber):\n",
    "            errorCount += 1.0\n",
    "    print(\"总共错了%d个数据\\n错误率为%f%%\" % (errorCount, errorCount/mTest))"
   ]
  },
  {
   "cell_type": "markdown",
   "metadata": {},
   "source": [
    "# 运行结果"
   ]
  },
  {
   "cell_type": "code",
   "execution_count": null,
   "metadata": {
    "collapsed": true
   },
   "outputs": [],
   "source": [
    "handwritingClassTest()"
   ]
  }
 ],
 "metadata": {
  "kernelspec": {
   "display_name": "Python 3",
   "language": "python",
   "name": "python3"
  },
  "language_info": {
   "codemirror_mode": {
    "name": "ipython",
    "version": 3
   },
   "file_extension": ".py",
   "mimetype": "text/x-python",
   "name": "python",
   "nbconvert_exporter": "python",
   "pygments_lexer": "ipython3",
   "version": "3.6.3"
  }
 },
 "nbformat": 4,
 "nbformat_minor": 2
}
